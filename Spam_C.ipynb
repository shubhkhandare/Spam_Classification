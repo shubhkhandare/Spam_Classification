{
  "nbformat": 4,
  "nbformat_minor": 0,
  "metadata": {
    "colab": {
      "provenance": [],
      "authorship_tag": "ABX9TyN8IIc+XCWmDSELYjItmLje",
      "include_colab_link": true
    },
    "kernelspec": {
      "name": "python3",
      "display_name": "Python 3"
    },
    "language_info": {
      "name": "python"
    }
  },
  "cells": [
    {
      "cell_type": "markdown",
      "metadata": {
        "id": "view-in-github",
        "colab_type": "text"
      },
      "source": [
        "<a href=\"https://colab.research.google.com/github/shubhkhandare/Spam_Classification/blob/main/Spam_C.ipynb\" target=\"_parent\"><img src=\"https://colab.research.google.com/assets/colab-badge.svg\" alt=\"Open In Colab\"/></a>"
      ]
    },
    {
      "cell_type": "code",
      "execution_count": 133,
      "metadata": {
        "id": "QSd-adhh8Pvh"
      },
      "outputs": [],
      "source": [
        "import nltk\n",
        "from nltk.corpus import stopwords\n",
        "from nltk.stem import WordNetLemmatizer\n",
        "lemmatizer = WordNetLemmatizer()"
      ]
    },
    {
      "cell_type": "markdown",
      "source": [
        "** CREATING TEXT REPRESENTATIONS **"
      ],
      "metadata": {
        "id": "5Tlf1_RdCgv7"
      }
    },
    {
      "cell_type": "code",
      "source": [
        "import pandas as pd\n",
        "import os\n",
        "import numpy as np\n",
        "from sklearn.model_selection import train_test_split\n",
        "from sklearn.preprocessing import scale"
      ],
      "metadata": {
        "id": "5g42XUXdCe1m"
      },
      "execution_count": 134,
      "outputs": []
    },
    {
      "cell_type": "code",
      "source": [
        "spam_data =pd.read_csv('Spam-Classification.csv')\n",
        "print(spam_data.head())\n"
      ],
      "metadata": {
        "colab": {
          "base_uri": "https://localhost:8080/"
        },
        "id": "h0SbZrAFDR-v",
        "outputId": "c49897f1-3ba4-4ddc-a194-e840fe69992a"
      },
      "execution_count": 135,
      "outputs": [
        {
          "output_type": "stream",
          "name": "stdout",
          "text": [
            "  CLASS                                                SMS\n",
            "0   ham   said kiss, kiss, i can't do the sound effects...\n",
            "1   ham      &lt;#&gt; ISH MINUTES WAS 5 MINUTES AGO. WTF.\n",
            "2  spam  (Bank of Granite issues Strong-Buy) EXPLOSIVE ...\n",
            "3  spam  * FREE* POLYPHONIC RINGTONE Text SUPER to 8713...\n",
            "4  spam  **FREE MESSAGE**Thanks for using the Auction S...\n"
          ]
        }
      ]
    },
    {
      "cell_type": "markdown",
      "source": [
        "seperate features and target data"
      ],
      "metadata": {
        "id": "IoA5r36sD57L"
      }
    },
    {
      "cell_type": "code",
      "source": [
        "spam_classes_raw = spam_data[\"CLASS\"]\n",
        "spam_messages = spam_data[\"SMS\"]"
      ],
      "metadata": {
        "id": "zSAaygWzD_qb"
      },
      "execution_count": 136,
      "outputs": []
    },
    {
      "cell_type": "code",
      "source": [
        "import tensorflow as tf\n",
        "from tensorflow import keras\n",
        "from tensorflow.keras import optimizers\n",
        "from tensorflow.keras.regularizers import l2\n",
        "from sklearn.model_selection import train_test_split\n",
        "from sklearn import preprocessing\n",
        "from sklearn.feature_extraction.text import TfidfVectorizer\n"
      ],
      "metadata": {
        "id": "iF47UzdJXqoY"
      },
      "execution_count": 137,
      "outputs": []
    },
    {
      "cell_type": "code",
      "source": [
        "def customtokenize(str):\n",
        "  token=nltk.word_tokenize(str)\n",
        "  nostop = list(filter(lambda token: token not in stopwords.words('english'), token))\n",
        "  lemmatized=[lemmatizer.lemmatize(words) for words in nostop]\n",
        "  return lemmatized\n"
      ],
      "metadata": {
        "id": "3CpF7-mHXrrU"
      },
      "execution_count": 138,
      "outputs": []
    },
    {
      "cell_type": "code",
      "source": [
        "import nltk\n",
        "nltk.download('punkt')"
      ],
      "metadata": {
        "colab": {
          "base_uri": "https://localhost:8080/"
        },
        "id": "u0XgdvzfkSzo",
        "outputId": "a6edc5e4-2e4d-4243-d844-590b3a0cb087"
      },
      "execution_count": 139,
      "outputs": [
        {
          "output_type": "stream",
          "name": "stderr",
          "text": [
            "[nltk_data] Downloading package punkt to /root/nltk_data...\n",
            "[nltk_data]   Package punkt is already up-to-date!\n"
          ]
        },
        {
          "output_type": "execute_result",
          "data": {
            "text/plain": [
              "True"
            ]
          },
          "metadata": {},
          "execution_count": 139
        }
      ]
    },
    {
      "cell_type": "code",
      "source": [
        "import nltk\n",
        "nltk.download('stopwords')"
      ],
      "metadata": {
        "colab": {
          "base_uri": "https://localhost:8080/"
        },
        "id": "pr1xvZKXk8X0",
        "outputId": "2e57564e-f561-4d61-88cf-2df0261b2058"
      },
      "execution_count": 140,
      "outputs": [
        {
          "output_type": "stream",
          "name": "stderr",
          "text": [
            "[nltk_data] Downloading package stopwords to /root/nltk_data...\n",
            "[nltk_data]   Package stopwords is already up-to-date!\n"
          ]
        },
        {
          "output_type": "execute_result",
          "data": {
            "text/plain": [
              "True"
            ]
          },
          "metadata": {},
          "execution_count": 140
        }
      ]
    },
    {
      "cell_type": "code",
      "source": [
        "import nltk\n",
        "nltk.download('wordnet')\n"
      ],
      "metadata": {
        "colab": {
          "base_uri": "https://localhost:8080/"
        },
        "id": "c9GUU5xll7aT",
        "outputId": "2641a90f-3df0-4d3b-db00-1af63eed9014"
      },
      "execution_count": 141,
      "outputs": [
        {
          "output_type": "stream",
          "name": "stderr",
          "text": [
            "[nltk_data] Downloading package wordnet to /root/nltk_data...\n",
            "[nltk_data]   Package wordnet is already up-to-date!\n"
          ]
        },
        {
          "output_type": "execute_result",
          "data": {
            "text/plain": [
              "True"
            ]
          },
          "metadata": {},
          "execution_count": 141
        }
      ]
    },
    {
      "cell_type": "code",
      "source": [
        "vectorizer = TfidfVectorizer(tokenizer=customtokenize)\n",
        "tfidf = vectorizer.fit_transform(spam_messages)\n",
        "tfidf_array= tfidf.toarray()"
      ],
      "metadata": {
        "colab": {
          "base_uri": "https://localhost:8080/"
        },
        "id": "0dSbVQPXjLSS",
        "outputId": "ba91fcb9-e3ce-4964-f150-4a47aba4bdc3"
      },
      "execution_count": 142,
      "outputs": [
        {
          "output_type": "stream",
          "name": "stderr",
          "text": [
            "/usr/local/lib/python3.10/dist-packages/sklearn/feature_extraction/text.py:528: UserWarning: The parameter 'token_pattern' will not be used since 'tokenizer' is not None'\n",
            "  warnings.warn(\n"
          ]
        }
      ]
    },
    {
      "cell_type": "markdown",
      "source": [
        "label encoder"
      ],
      "metadata": {
        "id": "ez2kaR9ZaXFQ"
      }
    },
    {
      "cell_type": "code",
      "source": [
        "label_encoder= preprocessing.LabelEncoder()\n",
        "spam_classes = label_encoder.fit_transform(spam_classes_raw)\n",
        "\n",
        "spam_classes=tf.keras.utils.to_categorical(spam_classes,2)\n"
      ],
      "metadata": {
        "id": "EK-pF4PnaaKI"
      },
      "execution_count": 143,
      "outputs": []
    },
    {
      "cell_type": "code",
      "source": [
        "print(\"TF-IDF MATRIX SHAPE:\", tfidf.shape)\n",
        "print(\"one-hot Encoding shape:\", spam_classes.shape)"
      ],
      "metadata": {
        "colab": {
          "base_uri": "https://localhost:8080/"
        },
        "id": "UfyuPZvycI5m",
        "outputId": "be480f8c-082b-4434-aa0f-34b7921b25d1"
      },
      "execution_count": 144,
      "outputs": [
        {
          "output_type": "stream",
          "name": "stdout",
          "text": [
            "TF-IDF MATRIX SHAPE: (1500, 4566)\n",
            "one-hot Encoding shape: (1500, 2)\n"
          ]
        }
      ]
    },
    {
      "cell_type": "code",
      "source": [
        "x_train, x_test, y_train, y_test = train_test_split(tfidf_array, spam_classes, test_size=0.10)"
      ],
      "metadata": {
        "id": "6g-1uwoYc7I_"
      },
      "execution_count": 145,
      "outputs": []
    },
    {
      "cell_type": "markdown",
      "source": [
        "** BUILDING AND EVALUATING THE MODEL **"
      ],
      "metadata": {
        "id": "CeUDu37DLaP-"
      }
    },
    {
      "cell_type": "code",
      "source": [
        "NB_CLASSES =2\n",
        "N_HIDDEN = 32\n",
        "\n",
        "model = tf.keras.models.Sequential()"
      ],
      "metadata": {
        "id": "lKSBy2x7Mlp0"
      },
      "execution_count": 146,
      "outputs": []
    },
    {
      "cell_type": "code",
      "source": [
        "model.add(keras.layers.Dense(N_HIDDEN, input_shape=(x_train.shape[1],),\n",
        "                             name = 'layer1', activation='relu'))\n",
        "model.add(keras.layers.Dense(N_HIDDEN, name = 'layer2', activation='relu'))\n",
        "model.add(keras.layers.Dense(NB_CLASSES, name = 'outlayer', activation='softmax'))\n",
        "\n",
        "model.compile(loss='categorical_crossentropy', metrics=['accuracy'])\n",
        "model.summary()"
      ],
      "metadata": {
        "colab": {
          "base_uri": "https://localhost:8080/"
        },
        "id": "qBJrRbxeKvt3",
        "outputId": "fdb56b5d-0a38-4285-8bd5-b7e4d6408375"
      },
      "execution_count": 147,
      "outputs": [
        {
          "output_type": "stream",
          "name": "stdout",
          "text": [
            "Model: \"sequential_5\"\n",
            "_________________________________________________________________\n",
            " Layer (type)                Output Shape              Param #   \n",
            "=================================================================\n",
            " layer1 (Dense)              (None, 32)                146144    \n",
            "                                                                 \n",
            " layer2 (Dense)              (None, 32)                1056      \n",
            "                                                                 \n",
            " outlayer (Dense)            (None, 2)                 66        \n",
            "                                                                 \n",
            "=================================================================\n",
            "Total params: 147266 (575.26 KB)\n",
            "Trainable params: 147266 (575.26 KB)\n",
            "Non-trainable params: 0 (0.00 Byte)\n",
            "_________________________________________________________________\n"
          ]
        }
      ]
    },
    {
      "cell_type": "markdown",
      "source": [
        "Training"
      ],
      "metadata": {
        "id": "QNueqVENVhVG"
      }
    },
    {
      "cell_type": "code",
      "source": [
        "VERBOSE=1\n",
        "BATCH_SIZE=256\n",
        "EPOCHS=10\n",
        "VALIDATION_SPLIT=0\n",
        "\n",
        "history = model.fit(x_train, y_train, batch_size=BATCH_SIZE, epochs=EPOCHS, verbose=VERBOSE, validation_split=VALIDATION_SPLIT)"
      ],
      "metadata": {
        "colab": {
          "base_uri": "https://localhost:8080/"
        },
        "id": "Q8qv6H92VjNU",
        "outputId": "61d386d2-f4ae-435d-c047-a2ae8dee9546"
      },
      "execution_count": 149,
      "outputs": [
        {
          "output_type": "stream",
          "name": "stdout",
          "text": [
            "Epoch 1/10\n",
            "6/6 [==============================] - 0s 23ms/step - loss: 0.1947 - accuracy: 0.9874\n",
            "Epoch 2/10\n",
            "6/6 [==============================] - 0s 21ms/step - loss: 0.1626 - accuracy: 0.9881\n",
            "Epoch 3/10\n",
            "6/6 [==============================] - 0s 19ms/step - loss: 0.1357 - accuracy: 0.9896\n",
            "Epoch 4/10\n",
            "6/6 [==============================] - 0s 17ms/step - loss: 0.1126 - accuracy: 0.9919\n",
            "Epoch 5/10\n",
            "6/6 [==============================] - 0s 17ms/step - loss: 0.0937 - accuracy: 0.9926\n",
            "Epoch 6/10\n",
            "6/6 [==============================] - 0s 19ms/step - loss: 0.0779 - accuracy: 0.9933\n",
            "Epoch 7/10\n",
            "6/6 [==============================] - 0s 19ms/step - loss: 0.0646 - accuracy: 0.9963\n",
            "Epoch 8/10\n",
            "6/6 [==============================] - 0s 19ms/step - loss: 0.0537 - accuracy: 0.9963\n",
            "Epoch 9/10\n",
            "6/6 [==============================] - 0s 18ms/step - loss: 0.0448 - accuracy: 0.9970\n",
            "Epoch 10/10\n",
            "6/6 [==============================] - 0s 17ms/step - loss: 0.0372 - accuracy: 0.9985\n"
          ]
        }
      ]
    },
    {
      "cell_type": "code",
      "source": [
        "import matplotlib.pyplot as plt\n",
        "pd.DataFrame(history.history)[\"accuracy\"].plot(figsize=(8,5))\n",
        "plt.title(\"accuracy iprovement with epochs\")\n",
        "plt.show()\n",
        "model.evaluate(x_test, y_test)\n"
      ],
      "metadata": {
        "colab": {
          "base_uri": "https://localhost:8080/",
          "height": 503
        },
        "id": "jpGF5f5xppiM",
        "outputId": "2ae8021e-9f6c-4489-dd06-28913f367a77"
      },
      "execution_count": 152,
      "outputs": [
        {
          "output_type": "display_data",
          "data": {
            "text/plain": [
              "<Figure size 800x500 with 1 Axes>"
            ],
            "image/png": "[encoded data removed]"
          },
          "metadata": {}
        },
        {
          "output_type": "stream",
          "name": "stdout",
          "text": [
            "5/5 [==============================] - 0s 7ms/step - loss: 0.0870 - accuracy: 0.9933\n"
          ]
        },
        {
          "output_type": "execute_result",
          "data": {
            "text/plain": [
              "[0.08697174489498138, 0.9933333396911621]"
            ]
          },
          "metadata": {},
          "execution_count": 152
        }
      ]
    },
    {
      "cell_type": "markdown",
      "source": [
        "Predict"
      ],
      "metadata": {
        "id": "mlNz_R8IrF4f"
      }
    },
    {
      "cell_type": "code",
      "source": [
        "predict_tfidf=vectorizer.transform([\"FREE entry to a fun contest\", \"You I will come over \"]).toarray()\n",
        "print(predict_tfidf.shape)\n",
        "prediction=np.argmax(model.predict(predict_tfidf), axis=1)\n",
        "print(\"prediction output\", prediction)\n",
        "\n",
        "print(\"prediction classes are\", label_encoder.inverse_transform(prediction))"
      ],
      "metadata": {
        "colab": {
          "base_uri": "https://localhost:8080/"
        },
        "id": "Uo5Zfg7rrHsh",
        "outputId": "9e93be15-a66f-48e7-c717-c307eb44af85"
      },
      "execution_count": 154,
      "outputs": [
        {
          "output_type": "stream",
          "name": "stdout",
          "text": [
            "(2, 4566)\n",
            "1/1 [==============================] - 0s 102ms/step\n",
            "prediction output [1 0]\n",
            "prediction classes are ['spam' 'ham']\n"
          ]
        }
      ]
    }
  ]
}